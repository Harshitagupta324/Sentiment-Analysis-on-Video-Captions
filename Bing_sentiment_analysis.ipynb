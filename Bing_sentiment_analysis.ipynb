{
  "nbformat": 4,
  "nbformat_minor": 0,
  "metadata": {
    "colab": {
      "provenance": [],
      "authorship_tag": "ABX9TyO96bPAa9vO+CZM5HbfqXFX",
      "include_colab_link": true
    },
    "kernelspec": {
      "name": "python3",
      "display_name": "Python 3"
    },
    "language_info": {
      "name": "python"
    }
  },
  "cells": [
    {
      "cell_type": "markdown",
      "metadata": {
        "id": "view-in-github",
        "colab_type": "text"
      },
      "source": [
        "<a href=\"https://colab.research.google.com/github/Harshitagupta324/Sentiment-Analysis-on-Video-Captions/blob/main/Bing_sentiment_analysis.ipynb\" target=\"_parent\"><img src=\"https://colab.research.google.com/assets/colab-badge.svg\" alt=\"Open In Colab\"/></a>"
      ]
    },
    {
      "cell_type": "code",
      "execution_count": null,
      "metadata": {
        "colab": {
          "base_uri": "https://localhost:8080/"
        },
        "id": "NIcxYejWVIU-",
        "outputId": "7143ed01-22fb-4e7f-cc98-1718483a38f7"
      },
      "outputs": [
        {
          "output_type": "stream",
          "name": "stdout",
          "text": [
            "Looking in indexes: https://pypi.org/simple, https://us-python.pkg.dev/colab-wheels/public/simple/\n",
            "Collecting vaderSentiment\n",
            "  Downloading vaderSentiment-3.3.2-py2.py3-none-any.whl (125 kB)\n",
            "\u001b[2K     \u001b[90m━━━━━━━━━━━━━━━━━━━━━━━━━━━━━━━━━━━━━━━\u001b[0m \u001b[32m126.0/126.0 KB\u001b[0m \u001b[31m4.6 MB/s\u001b[0m eta \u001b[36m0:00:00\u001b[0m\n",
            "\u001b[?25hRequirement already satisfied: requests in /usr/local/lib/python3.9/dist-packages (from vaderSentiment) (2.27.1)\n",
            "Requirement already satisfied: urllib3<1.27,>=1.21.1 in /usr/local/lib/python3.9/dist-packages (from requests->vaderSentiment) (1.26.15)\n",
            "Requirement already satisfied: charset-normalizer~=2.0.0 in /usr/local/lib/python3.9/dist-packages (from requests->vaderSentiment) (2.0.12)\n",
            "Requirement already satisfied: certifi>=2017.4.17 in /usr/local/lib/python3.9/dist-packages (from requests->vaderSentiment) (2022.12.7)\n",
            "Requirement already satisfied: idna<4,>=2.5 in /usr/local/lib/python3.9/dist-packages (from requests->vaderSentiment) (3.4)\n",
            "Installing collected packages: vaderSentiment\n",
            "Successfully installed vaderSentiment-3.3.2\n"
          ]
        }
      ],
      "source": [
        "!pip install vaderSentiment"
      ]
    },
    {
      "cell_type": "code",
      "source": [
        "import pandas as pd\n",
        "from textblob import TextBlob\n",
        "import math\n",
        "from vaderSentiment.vaderSentiment import SentimentIntensityAnalyzer\n",
        "\n",
        "# Load the TED talk transcript data from a CSV file\n",
        "df = pd.read_csv('/content/merged_file_final.csv')\n",
        "# Initialize the sentiment analyzer\n",
        "analyzer = SentimentIntensityAnalyzer()\n",
        "\n",
        "# Define a function to get the sentiment score of a given transcript using the Bing lexicon\n",
        "def get_sentiment_score(text):\n",
        "    if isinstance(text, float) and math.isnan(text):\n",
        "        return 0.0\n",
        "    else:\n",
        "        blob_score = TextBlob(text).sentiment.polarity\n",
        "        vader_score = analyzer.polarity_scores(text)['compound']\n",
        "        sentiment_score = (blob_score + vader_score) / 2\n",
        "        return sentiment_score\n",
        "\n",
        "# Add a new column to the DataFrame with the sentiment score for each transcript\n",
        "df['sentiment_score'] = df['transcript'].apply(get_sentiment_score)\n",
        "\n",
        "# Print the first 10 rows of the DataFrame to check the results\n",
        "print(df.head(10))\n"
      ],
      "metadata": {
        "colab": {
          "base_uri": "https://localhost:8080/"
        },
        "id": "4UbM2vOQVMvX",
        "outputId": "6b8ff99e-d9ae-4f48-bdaf-bf92d33c7f85"
      },
      "execution_count": null,
      "outputs": [
        {
          "output_type": "stream",
          "name": "stdout",
          "text": [
            "                                          transcript         main_speaker  \\\n",
            "0  Good morning. How are you?(Laughter)It's been ...         Ken Robinson   \n",
            "1  Thank you so much, Chris. And it's truly a gre...              Al Gore   \n",
            "2  (Music: \"The Sound of Silence,\" Simon & Garfun...          David Pogue   \n",
            "3  If you're here today — and I'm very happy that...        Majora Carter   \n",
            "4  About 10 years ago, I took on the task to teac...         Hans Rosling   \n",
            "5  Thank you. I have to tell you I'm both challen...         Tony Robbins   \n",
            "6  On September 10, the morning of my seventh bir...        Julia Sweeney   \n",
            "7  I'm going to present three projects in rapid f...  Joshua Prince-Ramus   \n",
            "8  It's wonderful to be back. I love this wonderf...          Dan Dennett   \n",
            "9  I'm often asked, \"What surprised you about the...          Rick Warren   \n",
            "\n",
            "                                               title Unnamed: 3 Unnamed: 4  \\\n",
            "0                        Do schools kill creativity?        NaN        NaN   \n",
            "1                        Averting the climate crisis        NaN        NaN   \n",
            "2                                   Simplicity sells        NaN        NaN   \n",
            "3                                Greening the ghetto        NaN        NaN   \n",
            "4                    The best stats you've ever seen        NaN        NaN   \n",
            "5                               Why we do what we do        NaN        NaN   \n",
            "6                                  Letting go of God        NaN        NaN   \n",
            "7             Behind the design of Seattle's library        NaN        NaN   \n",
            "8  Let's teach religion -- all religion -- in sch...        NaN        NaN   \n",
            "9                                  A life of purpose        NaN        NaN   \n",
            "\n",
            "  Unnamed: 5 Unnamed: 6 Unnamed: 7 Unnamed: 8 Unnamed: 9  ... Unnamed: 245  \\\n",
            "0        NaN        NaN        NaN        NaN        NaN  ...          NaN   \n",
            "1        NaN        NaN        NaN        NaN        NaN  ...          NaN   \n",
            "2        NaN        NaN        NaN        NaN        NaN  ...          NaN   \n",
            "3        NaN        NaN        NaN        NaN        NaN  ...          NaN   \n",
            "4        NaN        NaN        NaN        NaN        NaN  ...          NaN   \n",
            "5        NaN        NaN        NaN        NaN        NaN  ...          NaN   \n",
            "6        NaN        NaN        NaN        NaN        NaN  ...          NaN   \n",
            "7        NaN        NaN        NaN        NaN        NaN  ...          NaN   \n",
            "8        NaN        NaN        NaN        NaN        NaN  ...          NaN   \n",
            "9        NaN        NaN        NaN        NaN        NaN  ...          NaN   \n",
            "\n",
            "  Unnamed: 246 Unnamed: 247 Unnamed: 248 Unnamed: 249 Unnamed: 250  \\\n",
            "0          NaN          NaN          NaN          NaN          NaN   \n",
            "1          NaN          NaN          NaN          NaN          NaN   \n",
            "2          NaN          NaN          NaN          NaN          NaN   \n",
            "3          NaN          NaN          NaN          NaN          NaN   \n",
            "4          NaN          NaN          NaN          NaN          NaN   \n",
            "5          NaN          NaN          NaN          NaN          NaN   \n",
            "6          NaN          NaN          NaN          NaN          NaN   \n",
            "7          NaN          NaN          NaN          NaN          NaN   \n",
            "8          NaN          NaN          NaN          NaN          NaN   \n",
            "9          NaN          NaN          NaN          NaN          NaN   \n",
            "\n",
            "  Unnamed: 251 Unnamed: 252 Unnamed: 253 sentiment_score  \n",
            "0          NaN          NaN          NaN        0.573126  \n",
            "1          NaN          NaN          NaN        0.578587  \n",
            "2          NaN          NaN          NaN        0.568039  \n",
            "3          NaN          NaN          NaN        0.541314  \n",
            "4          NaN          NaN          NaN        0.548041  \n",
            "5          NaN          NaN          NaN        0.563206  \n",
            "6          NaN          NaN          NaN        0.556133  \n",
            "7          NaN          NaN          NaN        0.548564  \n",
            "8          NaN          NaN          NaN        0.599789  \n",
            "9          NaN          NaN          NaN        0.576091  \n",
            "\n",
            "[10 rows x 255 columns]\n"
          ]
        }
      ]
    },
    {
      "cell_type": "code",
      "source": [
        "df = df.drop(df.columns[3:253], axis=1)\n",
        "df = df.dropna(how='all')\n",
        "print(df)"
      ],
      "metadata": {
        "colab": {
          "base_uri": "https://localhost:8080/"
        },
        "id": "x4QAfgz2VP0Q",
        "outputId": "e660f21b-4e6f-48ae-90d3-f1971008ce87"
      },
      "execution_count": null,
      "outputs": [
        {
          "output_type": "stream",
          "name": "stdout",
          "text": [
            "                                             transcript         main_speaker  \\\n",
            "0     Good morning. How are you?(Laughter)It's been ...         Ken Robinson   \n",
            "1     Thank you so much, Chris. And it's truly a gre...              Al Gore   \n",
            "2     (Music: \"The Sound of Silence,\" Simon & Garfun...          David Pogue   \n",
            "3     If you're here today — and I'm very happy that...        Majora Carter   \n",
            "4     About 10 years ago, I took on the task to teac...         Hans Rosling   \n",
            "...                                                 ...                  ...   \n",
            "2549                                                NaN     Duarte Geraldino   \n",
            "2550                                                NaN  Armando Azua-Bustos   \n",
            "2551                                                NaN       Radhika Nagpal   \n",
            "2552                                                NaN     Theo E.J. Wilson   \n",
            "2553                                                NaN    Karoliina Korppoo   \n",
            "\n",
            "                                                  title Unnamed: 253  \\\n",
            "0                           Do schools kill creativity?          NaN   \n",
            "1                           Averting the climate crisis          NaN   \n",
            "2                                      Simplicity sells          NaN   \n",
            "3                                   Greening the ghetto          NaN   \n",
            "4                       The best stats you've ever seen          NaN   \n",
            "...                                                 ...          ...   \n",
            "2549  What we're missing in the debate about immigra...          NaN   \n",
            "2550                    The most Martian place on Earth          NaN   \n",
            "2551  What intelligent machines can learn from a sch...          NaN   \n",
            "2552       A black man goes undercover in the alt-right          NaN   \n",
            "2553  How a video game might help us build better ci...          NaN   \n",
            "\n",
            "      sentiment_score  \n",
            "0            0.573126  \n",
            "1            0.578587  \n",
            "2            0.568039  \n",
            "3            0.541314  \n",
            "4            0.548041  \n",
            "...               ...  \n",
            "2549         0.000000  \n",
            "2550         0.000000  \n",
            "2551         0.000000  \n",
            "2552         0.000000  \n",
            "2553         0.000000  \n",
            "\n",
            "[2554 rows x 5 columns]\n"
          ]
        }
      ]
    },
    {
      "cell_type": "code",
      "source": [
        "import matplotlib.pyplot as plt\n",
        "plt.hist(df['sentiment_score'], bins=20)\n",
        "plt.xlabel('Sentiment Score')\n",
        "plt.ylabel('Number of Transcripts')\n",
        "plt.title('Distribution of Sentiment Scores for TED Talk Transcripts')\n",
        "plt.show()"
      ],
      "metadata": {
        "colab": {
          "base_uri": "https://localhost:8080/",
          "height": 472
        },
        "id": "6TjGXRggVP51",
        "outputId": "8034a797-6378-4862-eabb-e43b1d4c0132"
      },
      "execution_count": null,
      "outputs": [
        {
          "output_type": "display_data",
          "data": {
            "text/plain": [
              "<Figure size 640x480 with 1 Axes>"
            ],
            "image/png": "[encoded data removed]"
          },
          "metadata": {}
        }
      ]
    }
  ]
}